{
  "nbformat": 4,
  "nbformat_minor": 0,
  "metadata": {
    "colab": {
      "name": "Linkedlist_lab06",
      "provenance": []
    },
    "kernelspec": {
      "name": "python3",
      "display_name": "Python 3"
    },
    "language_info": {
      "name": "python"
    }
  },
  "cells": [
    {
      "cell_type": "markdown",
      "metadata": {
        "id": "zoDH0_YFtOQi"
      },
      "source": [
        "# **LAB TASK **\n",
        "\n"
      ]
    },
    {
      "cell_type": "code",
      "metadata": {
        "id": "3cSSjWKylQxZ"
      },
      "source": [
        "class node:\n",
        "    def __init__(self, data=None):\n",
        "        self.data = data\n",
        "        self.next = None\n",
        "    \n",
        "\n",
        "class linkedlist:\n",
        "    def __init__(self):\n",
        "        self.head = node()\n",
        "  \n",
        "    def append(self, data):\n",
        "        if self.head.data == None:\n",
        "            self.head.data = data\n",
        "        else:\n",
        "            new_node = node(data)\n",
        "            curr = self.head\n",
        "        while curr.next!=None:\n",
        "            curr = curr.next\n",
        "        curr.next = new_node\n",
        "\n",
        "    def add_before(self, data):\n",
        "        if self.head.data == None:\n",
        "            self.head.data = data\n",
        "        else:\n",
        "            new_node = node(data)\n",
        "            curr = self.head\n",
        "            self.head = new_node\n",
        "            self.head.next = curr\n",
        "  \n",
        "    \n",
        "    def display(self):\n",
        "        curr = self.head\n",
        "        dis = []\n",
        "        while curr.next!=None:\n",
        "            curr = curr.next\n",
        "            dis.append(curr.data)\n",
        "        print(dis)\n",
        "  \n",
        "    def delete(self):\n",
        "        curr = self.head\n",
        "        while curr.next.next:\n",
        "            scnd_last = curr.next\n",
        "            curr = curr.next\n",
        "        curr.next = None\n",
        "\n",
        "    def get(self , data , index):\n",
        "        if self.head.data == None:\n",
        "            self.head.data = data\n",
        "        else:\n",
        "            new_node = node(data)\n",
        "            curr = self.head\n",
        "        if index == 0:\n",
        "            new_node.next = self.head\n",
        "            self.head = new_node\n",
        "        count = 0\n",
        "        curr = self.head\n",
        "        while curr is not None:\n",
        "            if count == index-1:\n",
        "                new_node.next = curr.next\n",
        "                curr.next = new_node\n",
        "                break\n",
        "            #print(\"curr:\" , curr)\n",
        "            curr = curr.next\n",
        "            count= count + 1\n",
        "    \n",
        "    def length(self):\n",
        "        len = 0\n",
        "        curr = self.head\n",
        "        if self.head!= None:\n",
        "            len = 1\n",
        "        while curr.next!= None:\n",
        "            len = len +1\n",
        "            curr = curr.next\n",
        "        print(len)"
      ],
      "execution_count": 35,
      "outputs": []
    },
    {
      "cell_type": "code",
      "metadata": {
        "id": "hyRh7ci7l3Re"
      },
      "source": [
        "t = linkedlist()"
      ],
      "execution_count": 36,
      "outputs": []
    },
    {
      "cell_type": "code",
      "metadata": {
        "id": "KHw-uYz_mDK9"
      },
      "source": [
        "t.append(1)\n",
        "t.append(2)\n",
        "t.append(3)\n",
        "t.append(4)"
      ],
      "execution_count": 38,
      "outputs": []
    },
    {
      "cell_type": "code",
      "metadata": {
        "colab": {
          "base_uri": "https://localhost:8080/"
        },
        "id": "-JX2Vk84mE2h",
        "outputId": "1f1ca427-ad4c-41f3-cc46-044f5c411929"
      },
      "source": [
        "t.display()"
      ],
      "execution_count": 39,
      "outputs": [
        {
          "output_type": "stream",
          "name": "stdout",
          "text": [
            "[1, 2, 3, 4]\n"
          ]
        }
      ]
    },
    {
      "cell_type": "code",
      "metadata": {
        "id": "3iO_uEj9mIrX"
      },
      "source": [
        "t.delete()"
      ],
      "execution_count": 40,
      "outputs": []
    },
    {
      "cell_type": "code",
      "metadata": {
        "colab": {
          "base_uri": "https://localhost:8080/"
        },
        "id": "Wf4j7q3-mNPQ",
        "outputId": "7ea26c3b-81e5-4574-b156-643ea10c761f"
      },
      "source": [
        "t.display()"
      ],
      "execution_count": 41,
      "outputs": [
        {
          "output_type": "stream",
          "name": "stdout",
          "text": [
            "[1, 2, 3]\n"
          ]
        }
      ]
    },
    {
      "cell_type": "code",
      "metadata": {
        "id": "6NKDjeObmUOW"
      },
      "source": [
        "t.add_before(8)"
      ],
      "execution_count": 44,
      "outputs": []
    },
    {
      "cell_type": "code",
      "metadata": {
        "colab": {
          "base_uri": "https://localhost:8080/"
        },
        "id": "pyxzcKqusK9q",
        "outputId": "30f92849-dc93-434c-af26-957ad0e20a5f"
      },
      "source": [
        "t.display()"
      ],
      "execution_count": 46,
      "outputs": [
        {
          "output_type": "stream",
          "name": "stdout",
          "text": [
            "[8, 1, 1, 2, 3]\n"
          ]
        }
      ]
    },
    {
      "cell_type": "code",
      "metadata": {
        "colab": {
          "base_uri": "https://localhost:8080/"
        },
        "id": "-lTZMKYumaQ0",
        "outputId": "446c4dff-a34c-4784-f6e9-25525b3307af"
      },
      "source": [
        "t.length()"
      ],
      "execution_count": 47,
      "outputs": [
        {
          "output_type": "stream",
          "name": "stdout",
          "text": [
            "6\n"
          ]
        }
      ]
    },
    {
      "cell_type": "code",
      "metadata": {
        "id": "EYjE13EzmgJ5"
      },
      "source": [
        "t.get(5,3)  "
      ],
      "execution_count": 48,
      "outputs": []
    },
    {
      "cell_type": "code",
      "metadata": {
        "colab": {
          "base_uri": "https://localhost:8080/"
        },
        "id": "knrJXTgVmiKb",
        "outputId": "27056792-0839-4d0a-b642-7d7a10b14ef2"
      },
      "source": [
        "t.display()"
      ],
      "execution_count": 49,
      "outputs": [
        {
          "output_type": "stream",
          "name": "stdout",
          "text": [
            "[8, 1, 5, 1, 2, 3]\n"
          ]
        }
      ]
    }
  ]
}