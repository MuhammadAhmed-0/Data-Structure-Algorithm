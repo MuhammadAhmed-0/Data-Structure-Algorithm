{
  "nbformat": 4,
  "nbformat_minor": 0,
  "metadata": {
    "colab": {
      "name": "200901101_DSA_LAB_TREES.ipynb",
      "provenance": [],
      "collapsed_sections": []
    },
    "kernelspec": {
      "name": "python3",
      "display_name": "Python 3"
    },
    "language_info": {
      "name": "python"
    }
  },
  "cells": [
    {
      "cell_type": "markdown",
      "source": [
        "#**<b> NAME:                 MUHAMMAD AHMED\n",
        "<h2><b> REG.No   200901101\n",
        "<h2><b> TREES   LAB \n",
        "\n",
        "<h2><b>TASK NUMBER 1\n"
      ],
      "metadata": {
        "id": "BMh9H6_1YAxq"
      }
    },
    {
      "cell_type": "code",
      "execution_count": 4,
      "metadata": {
        "id": "WKdgiA87X_nS"
      },
      "outputs": [],
      "source": [
        "class BTS: \n",
        "    def __init__ (self, key):\n",
        "      self.key= key\n",
        "      self.lchild = None\n",
        "      self.rchild = None\n",
        "\n",
        "    def insert(self, data):\n",
        "      if self.key:\n",
        "         if data < self.key:\n",
        "            if self.lchild is None:\n",
        "               self.lchild = BTS(data)\n",
        "            else:\n",
        "               self.lchild.insert(data)\n",
        "         else:\n",
        "             if data > self.key:\n",
        "               if self.rchild is None:\n",
        "                  self.rchild = BTS(data)\n",
        "               else:\n",
        "                  self.rchild.insert(data)\n",
        "      else:\n",
        "            self.key = data\n",
        "\n",
        "    def search(self,data):\n",
        "      if self.key == data:\n",
        "        print(\"Node is found\")\n",
        "        return\n",
        "      if data <self.key:\n",
        "        if self.lchild:\n",
        "            self.lchild.search(data)\n",
        "        else:\n",
        "          print(\"Node is not peresent in tree\")\n",
        "      else: \n",
        "          if self.rchild:\n",
        "            self.rchild.search(data)\n",
        "          else:\n",
        "             print(\"Node is not peresent in tree\")\n",
        "\n"
      ]
    },
    {
      "cell_type": "code",
      "source": [
        "\n",
        "n = int(input(\"Enter value array\"))\n",
        "root = BTS(0)\n",
        "d = [ ]\n",
        "for i in range (n):\n",
        "   data = int(input(\"Enter value\")) \n",
        "   d.append(data)\n",
        "root.insert(d)\n",
        "print(d)\n",
        "root.search(d)"
      ],
      "metadata": {
        "id": "2omV1Hmvi2f3"
      },
      "execution_count": null,
      "outputs": []
    },
    {
      "cell_type": "markdown",
      "source": [
        "<h2><b>TASK NUMBER TWO\n",
        "\n",
        "<h2><b> BUBBLE SORT "
      ],
      "metadata": {
        "id": "De2pH1zFcmWH"
      }
    },
    {
      "cell_type": "code",
      "source": [
        "def bubbleSort(arr):\n",
        "    for i in range(len(arr)-1):\n",
        "\n",
        "        for j in range(0, len(arr)-i-1):\n",
        " \n",
        "            if arr[j] > arr[j + 1] :\n",
        "                temp=arr[j]\n",
        "                arr[j]=arr[j+1]\n",
        "                arr[j+1]=temp\n",
        "arr = [64, 34, 25, 12, 22, 11, 90]\n",
        " \n",
        "bubbleSort(arr)\n",
        " \n",
        "print (\"Sorted array is:\", )\n",
        "for i in range(len(arr)):\n",
        "    print (arr[i],end= \" \")"
      ],
      "metadata": {
        "colab": {
          "base_uri": "https://localhost:8080/"
        },
        "id": "XoVVkm5Acznu",
        "outputId": "6c0f0865-a345-4169-edd3-4dd35cae5da5"
      },
      "execution_count": 3,
      "outputs": [
        {
          "output_type": "stream",
          "name": "stdout",
          "text": [
            "Sorted array is:\n",
            "11 12 22 25 34 64 90 "
          ]
        }
      ]
    }
  ]
}